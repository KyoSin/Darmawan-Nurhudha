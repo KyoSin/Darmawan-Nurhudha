{
 "cells": [
  {
   "cell_type": "markdown",
   "id": "10c25d6f",
   "metadata": {
    "id": "10c25d6f"
   },
   "source": [
    "# Hands-On Pertemuan 1: Pengenalan Big Data dan Overview Teknologi"
   ]
  },
  {
   "cell_type": "markdown",
   "id": "7117dfdb",
   "metadata": {
    "id": "7117dfdb"
   },
   "source": [
    "## Tujuan\n",
    "Pada akhir praktikum ini, mahasiswa diharapkan mampu:\n",
    "1. Memahami konsep dasar Big Data.\n",
    "2. Menjelaskan karakteristik dan tantangan Big Data (Volume, Variety, Velocity, dan Veracity).\n",
    "3. Mengenal teknologi yang digunakan dalam ekosistem Big Data.\n",
    "4. Menginstal dan mengonfigurasi Anaconda untuk bekerja dengan alat Big Data seperti Hadoop dan Spark.\n",
    "5. Memulai praktik sederhana terkait pengolahan data menggunakan PySpark dan Pandas."
   ]
  },
  {
   "cell_type": "markdown",
   "id": "7e805141",
   "metadata": {
    "id": "7e805141"
   },
   "source": [
    "## Peralatan yang Dibutuhkan\n",
    "1. Anaconda (untuk manajemen lingkungan)\n",
    "2. Jupyter Notebook (bawaan dari Anaconda)\n",
    "3. PySpark (untuk pemrosesan data skala besar)\n",
    "4. Pandas (untuk data analysis)\n",
    "5. Python (bawaan dari Anaconda)"
   ]
  },
  {
   "cell_type": "markdown",
   "id": "8daa78a0",
   "metadata": {
    "id": "8daa78a0"
   },
   "source": [
    "## Langkah-Langkah Hands-On"
   ]
  },
  {
   "cell_type": "markdown",
   "id": "23b963c0",
   "metadata": {
    "id": "23b963c0"
   },
   "source": [
    "### 1. Instalasi Anaconda\n",
    "- **Langkah 1: Unduh dan Instal Anaconda**\n",
    "  Anaconda adalah platform distribusi Python yang menyertakan berbagai alat pengembangan, termasuk Jupyter Notebook. Ikuti langkah-langkah instalasi sesuai sistem operasi:\n",
    "  - Unduh Anaconda: [Download Anaconda](https://www.anaconda.com/products/individual)\n",
    "  - Instal sesuai instruksi yang ada di situs web tersebut (Windows/Mac/Linux).\n",
    "\n",
    "- **Langkah 2: Menginstal PySpark di Anaconda**\n",
    "  Setelah Anaconda terinstal, tambahkan PySpark:\n",
    "  ```bash\n",
    "  pip install pyspark==3.5.1\n",
    "  ```\n",
    "\n",
    "- **Langkah 3: Menginstal Pandas**\n",
    "  Untuk memudahkan data analysis, install Pandas:\n",
    "  ```bash\n",
    "  pip install pandas\n",
    "  ```"
   ]
  },
  {
   "cell_type": "markdown",
   "id": "208f1a45",
   "metadata": {
    "id": "208f1a45"
   },
   "source": [
    "### 2. Pengenalan dan Praktik Dasar PySpark dan Pandas\n",
    "- **Langkah 1: Membuka Jupyter Notebook**\n",
    "  Setelah instalasi selesai, buka Jupyter Notebook melalui Anaconda Navigator atau melalui terminal dengan perintah:\n",
    "  ```bash\n",
    "  jupyter notebook\n",
    "  ```\n",
    "\n",
    "- **Langkah 2: Membuat Project Notebook Baru**\n",
    "  Di Jupyter Notebook, buat notebook baru untuk praktikum ini.\n",
    "\n",
    "- **Langkah 3: Praktik dengan PySpark**\n",
    "  Buat program sederhana untuk memulai dengan PySpark. Gunakan PySpark untuk membuat DataFrame dan memanipulasi data sederhana:"
   ]
  },
  {
   "cell_type": "code",
   "execution_count": 1,
   "id": "f78a5053",
   "metadata": {
    "id": "f78a5053"
   },
   "outputs": [
    {
     "name": "stdout",
     "output_type": "stream",
     "text": [
      "+-----+----+\n",
      "| Nama|Usia|\n",
      "+-----+----+\n",
      "|  Ali|  34|\n",
      "| Budi|  23|\n",
      "|Citra|  29|\n",
      "| Dina|  45|\n",
      "+-----+----+\n",
      "\n"
     ]
    }
   ],
   "source": [
    "import findspark\n",
    "findspark.init()\n",
    "\n",
    "from pyspark.sql import SparkSession\n",
    "\n",
    "# Memulai Spark session\n",
    "spark = SparkSession.builder.appName(\"BigDataPractice\").getOrCreate()\n",
    "\n",
    "# Membuat DataFrame sederhana\n",
    "data = [(\"Ali\", 34), (\"Budi\", 23), (\"Citra\", 29), (\"Dina\", 45)]\n",
    "columns = [\"Nama\", \"Usia\"]\n",
    "df = spark.createDataFrame(data, columns)\n",
    "\n",
    "# Menampilkan DataFrame\n",
    "df.show()\n"
   ]
  },
  {
   "cell_type": "markdown",
   "id": "8747276f",
   "metadata": {
    "id": "8747276f"
   },
   "source": [
    "- **Tugas 1**: Jalankan kode di atas dan buat modifikasi dengan menambahkan data lain berupa kolom pekerjaan, hobi dan gender."
   ]
  },
  {
   "cell_type": "code",
   "execution_count": 2,
   "id": "d4618b0e-4193-4ff5-bbe1-d11b1a613392",
   "metadata": {},
   "outputs": [
    {
     "name": "stdout",
     "output_type": "stream",
     "text": [
      "+-------------+----+--------------+-----------------+------+\n",
      "|         Nama|Usia|     Pekerjaan|             Hobi|Gender|\n",
      "+-------------+----+--------------+-----------------+------+\n",
      "|    Musa Busi|  19|Tukang Bengkel|            Silat|     L|\n",
      "|David Standar|  20|    Jual Balon|     Bermain Game|     L|\n",
      "|   Haji Hasan|  19|   Tokoh Agama|Membaca Al-Qur'an|     L|\n",
      "|  Wahyu Spion|  20| Pro Player ML|     Bermain Game|     L|\n",
      "+-------------+----+--------------+-----------------+------+\n",
      "\n"
     ]
    }
   ],
   "source": [
    "import findspark\n",
    "findspark.init()\n",
    "\n",
    "from pyspark.sql import SparkSession\n",
    "\n",
    "# Memulai Spark session\n",
    "spark = SparkSession.builder.appName(\"BigDataPractice\").getOrCreate()\n",
    "\n",
    "# Membuat DataFrame sederhana\n",
    "data = [(\"Musa Busi\", 19, \"Tukang Bengkel\", \"Silat\", \"L\"), (\"David Standar\", 20, \"Jual Balon\", \"Bermain Game\", \"L\"), (\"Haji Hasan\", 19, \"Tokoh Agama\", \"Membaca Al-Qur'an\", \"L\"), (\"Wahyu Spion\", 20, \"Pro Player ML\", \"Bermain Game\", \"L\")]\n",
    "columns = [\"Nama\", \"Usia\", \"Pekerjaan\", \"Hobi\", \"Gender\"]\n",
    "df = spark.createDataFrame(data, columns)\n",
    "\n",
    "# Menampilkan DataFrame\n",
    "df.show()\n"
   ]
  },
  {
   "cell_type": "markdown",
   "id": "1f84a333",
   "metadata": {
    "id": "1f84a333"
   },
   "source": [
    "### 3. Praktik PySpark Lanjutan\n",
    "- **Latihan 1**: Memanipulasi Data dengan PySpark."
   ]
  },
  {
   "cell_type": "code",
   "execution_count": 2,
   "id": "1f391ed5",
   "metadata": {
    "id": "1f391ed5"
   },
   "outputs": [
    {
     "name": "stdout",
     "output_type": "stream",
     "text": [
      "+-----+----+\n",
      "| Nama|Usia|\n",
      "+-----+----+\n",
      "|  Ali|  34|\n",
      "| Budi|  23|\n",
      "|Citra|  29|\n",
      "| Dina|  45|\n",
      "+-----+----+\n",
      "\n",
      "+----+----+\n",
      "|Nama|Usia|\n",
      "+----+----+\n",
      "| Ali|  34|\n",
      "|Dina|  45|\n",
      "+----+----+\n",
      "\n",
      "+---------+\n",
      "|avg(Usia)|\n",
      "+---------+\n",
      "|    32.75|\n",
      "+---------+\n",
      "\n",
      "+-----+----+\n",
      "| Nama|Usia|\n",
      "+-----+----+\n",
      "| Dina|  45|\n",
      "|  Ali|  34|\n",
      "|Citra|  29|\n",
      "| Budi|  23|\n",
      "+-----+----+\n",
      "\n"
     ]
    }
   ],
   "source": [
    "from pyspark.sql import SparkSession\n",
    "\n",
    "# Memulai Spark session\n",
    "spark = SparkSession.builder.appName(\"BigDataPractice\").getOrCreate()\n",
    "\n",
    "# Membuat DataFrame sederhana\n",
    "data = [(\"Ali\", 34), (\"Budi\", 23), (\"Citra\", 29), (\"Dina\", 45)]\n",
    "columns = [\"Nama\", \"Usia\"]\n",
    "df = spark.createDataFrame(data, columns)\n",
    "\n",
    "# Menampilkan DataFrame\n",
    "df.show()\n",
    "\n",
    "# Filtering data\n",
    "df_filtered = df.filter(df['Usia'] > 30)\n",
    "df_filtered.show()\n",
    "\n",
    "# Menghitung rata-rata usia\n",
    "from pyspark.sql.functions import avg\n",
    "df.groupBy().agg(avg(\"Usia\")).show()\n",
    "\n",
    "# Mengurutkan data berdasarkan usia\n",
    "df_sorted = df.orderBy(\"Usia\", ascending=False)\n",
    "df_sorted.show()\n"
   ]
  },
  {
   "cell_type": "markdown",
   "id": "e06767bc",
   "metadata": {
    "id": "e06767bc"
   },
   "source": [
    "- **Tugas 2**: Lakukan filter, penghitungan rata-rata, dan pengurutan data menggunakan PySpark."
   ]
  },
  {
   "cell_type": "code",
   "execution_count": 4,
   "id": "2f0627a2-1dc5-412c-9d02-5122097e4880",
   "metadata": {},
   "outputs": [
    {
     "name": "stdout",
     "output_type": "stream",
     "text": [
      "Menampilkan DataFrame\n",
      "+-------------+----+--------------+-----------------+------+\n",
      "|         Nama|Usia|     Pekerjaan|             Hobi|Gender|\n",
      "+-------------+----+--------------+-----------------+------+\n",
      "|    Musa Busi|  19|Tukang Bengkel|            Silat|     L|\n",
      "|David Standar|  20|    Jual Balon|     Bermain Game|     L|\n",
      "|   Haji Hasan|  19|   Tokoh Agama|Membaca Al-Qur'an|     L|\n",
      "|  Wahyu Spion|  20| Pro Player ML|     Bermain Game|     L|\n",
      "+-------------+----+--------------+-----------------+------+\n",
      "\n",
      "Filtering data\n",
      "+----------+----+--------------+-----------------+------+\n",
      "|      Nama|Usia|     Pekerjaan|             Hobi|Gender|\n",
      "+----------+----+--------------+-----------------+------+\n",
      "| Musa Busi|  19|Tukang Bengkel|            Silat|     L|\n",
      "|Haji Hasan|  19|   Tokoh Agama|Membaca Al-Qur'an|     L|\n",
      "+----------+----+--------------+-----------------+------+\n",
      "\n",
      "Menghitung rata-rata usia\n",
      "+---------+\n",
      "|avg(Usia)|\n",
      "+---------+\n",
      "|     19.5|\n",
      "+---------+\n",
      "\n",
      "Mengurutkan data berdasarkan nama\n",
      "+-------------+----+--------------+-----------------+------+\n",
      "|         Nama|Usia|     Pekerjaan|             Hobi|Gender|\n",
      "+-------------+----+--------------+-----------------+------+\n",
      "|    Musa Busi|  19|Tukang Bengkel|            Silat|     L|\n",
      "|   Haji Hasan|  19|   Tokoh Agama|Membaca Al-Qur'an|     L|\n",
      "|  Wahyu Spion|  20| Pro Player ML|     Bermain Game|     L|\n",
      "|David Standar|  20|    Jual Balon|     Bermain Game|     L|\n",
      "+-------------+----+--------------+-----------------+------+\n",
      "\n"
     ]
    }
   ],
   "source": [
    "from pyspark.sql import SparkSession\n",
    "\n",
    "# Memulai Spark session\n",
    "spark = SparkSession.builder.appName(\"BigDataPractice\").getOrCreate()\n",
    "\n",
    "# Membuat DataFrame sederhana\n",
    "data = [(\"Musa Busi\", 19, \"Tukang Bengkel\", \"Silat\", \"L\"), (\"David Standar\", 20, \"Jual Balon\", \"Bermain Game\", \"L\"), (\"Haji Hasan\", 19, \"Tokoh Agama\", \"Membaca Al-Qur'an\", \"L\"), (\"Wahyu Spion\", 20, \"Pro Player ML\", \"Bermain Game\", \"L\")]\n",
    "columns = [\"Nama\", \"Usia\", \"Pekerjaan\", \"Hobi\", \"Gender\"]\n",
    "df = spark.createDataFrame(data, columns)\n",
    "\n",
    "# Menampilkan DataFrame\n",
    "print(\"Menampilkan DataFrame\")\n",
    "df.show()\n",
    "\n",
    "# Filtering data\n",
    "print(\"Filtering data\")\n",
    "df_filtered = df.filter(df['Usia'] < 20)\n",
    "df_filtered.show()\n",
    "\n",
    "# Menghitung rata-rata usia\n",
    "print(\"Menghitung rata-rata usia\")\n",
    "from pyspark.sql.functions import avg\n",
    "df.groupBy().agg(avg(\"Usia\")).show()\n",
    "\n",
    "# Mengurutkan data berdasarkan nama\n",
    "print(\"Mengurutkan data berdasarkan usia\")\n",
    "df_sorted = df.orderBy(\"Usia\", descending=False)\n",
    "df_sorted.show()"
   ]
  },
  {
   "cell_type": "markdown",
   "id": "fe1e34a5",
   "metadata": {
    "id": "fe1e34a5"
   },
   "source": [
    "### 4. Praktik dengan Pandas\n",
    "- **Latihan 2**:  Buat DataFrame menggunakan Pandas:"
   ]
  },
  {
   "cell_type": "code",
   "execution_count": 3,
   "id": "3f1f2ec1",
   "metadata": {
    "id": "3f1f2ec1"
   },
   "outputs": [
    {
     "data": {
      "text/html": [
       "<div>\n",
       "<style scoped>\n",
       "    .dataframe tbody tr th:only-of-type {\n",
       "        vertical-align: middle;\n",
       "    }\n",
       "\n",
       "    .dataframe tbody tr th {\n",
       "        vertical-align: top;\n",
       "    }\n",
       "\n",
       "    .dataframe thead th {\n",
       "        text-align: right;\n",
       "    }\n",
       "</style>\n",
       "<table border=\"1\" class=\"dataframe\">\n",
       "  <thead>\n",
       "    <tr style=\"text-align: right;\">\n",
       "      <th></th>\n",
       "      <th>Nama</th>\n",
       "      <th>Usia</th>\n",
       "    </tr>\n",
       "  </thead>\n",
       "  <tbody>\n",
       "    <tr>\n",
       "      <th>0</th>\n",
       "      <td>Ali</td>\n",
       "      <td>34</td>\n",
       "    </tr>\n",
       "    <tr>\n",
       "      <th>1</th>\n",
       "      <td>Budi</td>\n",
       "      <td>23</td>\n",
       "    </tr>\n",
       "    <tr>\n",
       "      <th>2</th>\n",
       "      <td>Citra</td>\n",
       "      <td>29</td>\n",
       "    </tr>\n",
       "    <tr>\n",
       "      <th>3</th>\n",
       "      <td>Dina</td>\n",
       "      <td>45</td>\n",
       "    </tr>\n",
       "  </tbody>\n",
       "</table>\n",
       "</div>"
      ],
      "text/plain": [
       "    Nama  Usia\n",
       "0    Ali    34\n",
       "1   Budi    23\n",
       "2  Citra    29\n",
       "3   Dina    45"
      ]
     },
     "execution_count": 3,
     "metadata": {},
     "output_type": "execute_result"
    }
   ],
   "source": [
    "import pandas as pd\n",
    "\n",
    "# Membuat DataFrame Pandas\n",
    "data_pandas = {\"Nama\": [\"Ali\", \"Budi\", \"Citra\", \"Dina\"], \"Usia\": [34, 23, 29, 45]}\n",
    "df_pandas = pd.DataFrame(data_pandas)\n",
    "\n",
    "# Menampilkan DataFrame Pandas\n",
    "df_pandas"
   ]
  },
  {
   "cell_type": "markdown",
   "id": "9da455f1",
   "metadata": {
    "id": "9da455f1"
   },
   "source": [
    "- **Tugas 3**: Modifikasi DataFrame Pandas dengan menambahkan kolom baru dan melakukan operasi seperti filtering data berdasarkan usia."
   ]
  },
  {
   "cell_type": "code",
   "execution_count": 5,
   "id": "c944642e-3b67-4f2f-a82f-90c20a5b4b95",
   "metadata": {},
   "outputs": [
    {
     "name": "stdout",
     "output_type": "stream",
     "text": [
      "            Nama  Usia   Asal Kota\n",
      "0      Musa Busi    18    Magelang\n",
      "1  David Standar    23   Purworejo\n",
      "2    Wahyu Spion    20  Yogyakarta\n",
      "3     Haji Hasan    17    Magelang\n",
      "\n",
      "Filtering data berdasarkan usia:\n"
     ]
    },
    {
     "data": {
      "text/html": [
       "<div>\n",
       "<style scoped>\n",
       "    .dataframe tbody tr th:only-of-type {\n",
       "        vertical-align: middle;\n",
       "    }\n",
       "\n",
       "    .dataframe tbody tr th {\n",
       "        vertical-align: top;\n",
       "    }\n",
       "\n",
       "    .dataframe thead th {\n",
       "        text-align: right;\n",
       "    }\n",
       "</style>\n",
       "<table border=\"1\" class=\"dataframe\">\n",
       "  <thead>\n",
       "    <tr style=\"text-align: right;\">\n",
       "      <th></th>\n",
       "      <th>Nama</th>\n",
       "      <th>Usia</th>\n",
       "      <th>Asal Kota</th>\n",
       "    </tr>\n",
       "  </thead>\n",
       "  <tbody>\n",
       "    <tr>\n",
       "      <th>1</th>\n",
       "      <td>David Standar</td>\n",
       "      <td>23</td>\n",
       "      <td>Purworejo</td>\n",
       "    </tr>\n",
       "    <tr>\n",
       "      <th>2</th>\n",
       "      <td>Wahyu Spion</td>\n",
       "      <td>20</td>\n",
       "      <td>Yogyakarta</td>\n",
       "    </tr>\n",
       "  </tbody>\n",
       "</table>\n",
       "</div>"
      ],
      "text/plain": [
       "            Nama  Usia   Asal Kota\n",
       "1  David Standar    23   Purworejo\n",
       "2    Wahyu Spion    20  Yogyakarta"
      ]
     },
     "execution_count": 5,
     "metadata": {},
     "output_type": "execute_result"
    }
   ],
   "source": [
    "import pandas as pd\n",
    "\n",
    "# Membuat DataFrame Pandas\n",
    "data_pandas = {\"Nama\": [\"Musa Busi\", \"David Standar\", \"Wahyu Spion\", \"Haji Hasan\"], \"Usia\": [18, 23, 20, 17], \"Asal Kota\": [\"Magelang\", \"Purworejo\", \"Yogyakarta\", \"Magelang\"]}\n",
    "df_pandas = pd.DataFrame(data_pandas)\n",
    "\n",
    "# Menampilkan DataFrame Pandas \n",
    "print(df_pandas)\n",
    "print()\n",
    "\n",
    "print(\"Filtering data berdasarkan usia:\")\n",
    "# Filtering data berdasarkan usia  \n",
    "df_filter = df_pandas[df_pandas[\"Usia\"] >= 19]  \n",
    "\n",
    "# Menampilkan DataFrame yang telah difilter  \n",
    "df_filter = pd.DataFrame(df_filter)\n",
    "df_filter"
   ]
  },
  {
   "cell_type": "markdown",
   "id": "c0042b2b",
   "metadata": {
    "id": "c0042b2b"
   },
   "source": [
    "### 5. Praktik Pandas Lanjutan\n",
    "- **Latihan 3**: Penggunaan Pandas untuk operasi lebih kompleks."
   ]
  },
  {
   "cell_type": "code",
   "execution_count": 4,
   "id": "e7a8142f",
   "metadata": {
    "id": "e7a8142f"
   },
   "outputs": [
    {
     "name": "stdout",
     "output_type": "stream",
     "text": [
      "    Nama  Usia Pekerjaan\n",
      "0    Ali    34    Dokter\n",
      "1   Budi    23      Guru\n",
      "2  Citra    29  Insinyur\n",
      "3   Dina    45   Perawat\n",
      "            Usia\n",
      "count   4.000000\n",
      "mean   32.750000\n",
      "std     9.322911\n",
      "min    23.000000\n",
      "25%    27.500000\n",
      "50%    31.500000\n",
      "75%    36.750000\n",
      "max    45.000000\n"
     ]
    },
    {
     "data": {
      "image/png": "[encoded data removed]",
      "text/plain": [
       "<Figure size 640x480 with 1 Axes>"
      ]
     },
     "metadata": {},
     "output_type": "display_data"
    }
   ],
   "source": [
    "import pandas as pd\n",
    "\n",
    "# Membuat DataFrame Pandas\n",
    "data_pandas = {\"Nama\": [\"Ali\", \"Budi\", \"Citra\", \"Dina\"], \"Usia\": [34, 23, 29, 45]}\n",
    "df_pandas = pd.DataFrame(data_pandas)\n",
    "\n",
    "# Membuat DataFrame kedua\n",
    "data_pandas_2 = {\"Nama\": [\"Ali\", \"Budi\", \"Citra\", \"Dina\"], \"Pekerjaan\": [\"Dokter\", \"Guru\", \"Insinyur\", \"Perawat\"]}\n",
    "df_pandas_2 = pd.DataFrame(data_pandas_2)\n",
    "\n",
    "# Join antara dua DataFrame\n",
    "df_joined = pd.merge(df_pandas, df_pandas_2, on=\"Nama\")\n",
    "print(df_joined)\n",
    "\n",
    "# Menghitung statistik deskriptif\n",
    "print(df_pandas.describe())\n",
    "\n",
    "# Plotting Data\n",
    "import matplotlib.pyplot as plt\n",
    "df_pandas['Usia'].plot(kind='bar')\n",
    "plt.show()\n"
   ]
  },
  {
   "cell_type": "markdown",
   "id": "884ed75d",
   "metadata": {
    "id": "884ed75d"
   },
   "source": [
    "- **Tugas 4**: Lakukan penggabungan DataFrame dan visualisasikan data dengan Pandas."
   ]
  },
  {
   "cell_type": "code",
   "execution_count": 2,
   "id": "e1e1bfa7-83bd-494d-b794-99fd8f817ca4",
   "metadata": {},
   "outputs": [
    {
     "name": "stdout",
     "output_type": "stream",
     "text": [
      "            Nama  Usia       Pekerjaan\n",
      "0      Musa Busi    18  Tukang Bengkel\n",
      "1  David Standar    23      Jual Balon\n",
      "2    Wahyu Spion    20   Pro Player ML\n",
      "3     Haji Hasan    17     Tokoh Agama\n",
      "            Usia\n",
      "count   4.000000\n",
      "mean   19.500000\n",
      "std     2.645751\n",
      "min    17.000000\n",
      "25%    17.750000\n",
      "50%    19.000000\n",
      "75%    20.750000\n",
      "max    23.000000\n"
     ]
    },
    {
     "data": {
      "image/png": "[encoded data removed]",
      "text/plain": [
       "<Figure size 640x480 with 1 Axes>"
      ]
     },
     "metadata": {},
     "output_type": "display_data"
    },
    {
     "data": {
      "image/png": "[encoded data removed]",
      "text/plain": [
       "<Figure size 640x480 with 1 Axes>"
      ]
     },
     "metadata": {},
     "output_type": "display_data"
    }
   ],
   "source": [
    "import pandas as pd\n",
    "\n",
    "# Membuat DataFrame Pandas\n",
    "data_pandas = {\"Nama\": [\"Musa Busi\", \"David Standar\", \"Wahyu Spion\", \"Haji Hasan\"], \"Usia\": [18, 23, 20, 17]}\n",
    "df_pandas = pd.DataFrame(data_pandas)\n",
    "\n",
    "# Membuat DataFrame kedua\n",
    "data_pandas_2 = {\"Nama\": [\"Musa Busi\", \"David Standar\", \"Wahyu Spion\", \"Haji Hasan\"], \"Pekerjaan\": [\"Tukang Bengkel\", \"Jual Balon\", \"Pro Player ML\", \"Tokoh Agama\"]}\n",
    "df_pandas_2 = pd.DataFrame(data_pandas_2)\n",
    "\n",
    "# Join antara dua DataFrame\n",
    "df_joined = pd.merge(df_pandas, df_pandas_2, on=\"Nama\")\n",
    "print(df_joined)\n",
    "\n",
    "data_pekerjaan= df_joined['Pekerjaan'].value_counts()\n",
    "\n",
    "# Menghitung statistik deskriptif\n",
    "print(df_pandas.describe())\n",
    "\n",
    "# Plotting Data usia\n",
    "import matplotlib.pyplot as plt\n",
    "df_pandas['Usia'].plot(kind='bar')\n",
    "plt.title('Data Usia')\n",
    "plt.xlabel('Nama')\n",
    "plt.ylabel('Usia')\n",
    "plt.xticks(ticks=range(len(df_pandas)), labels=df_pandas['Nama'], rotation=0)\n",
    "plt.show()\n",
    "\n",
    "#Plotting data pekerjaan\n",
    "data_pekerjaan.plot(kind='bar', color='green')\n",
    "plt.title('Data Pekerjaan')\n",
    "plt.xlabel('Pekerjaan')\n",
    "plt.ylabel('Jumlah Orang')\n",
    "plt.xticks(rotation=0)\n",
    "plt.show()"
   ]
  },
  {
   "cell_type": "markdown",
   "id": "bf671ba3",
   "metadata": {
    "id": "bf671ba3"
   },
   "source": [
    "### 5. Menggabungkan PySpark dan Pandas\n",
    "- **Latihan 4: Mengonversi DataFrame antara PySpark dan Pandas**\n",
    "  Praktik untuk convert DataFrame dari PySpark ke Pandas dan sebaliknya:\n"
   ]
  },
  {
   "cell_type": "code",
   "execution_count": 5,
   "id": "337e123f",
   "metadata": {
    "id": "337e123f"
   },
   "outputs": [
    {
     "name": "stdout",
     "output_type": "stream",
     "text": [
      "+-----+----+\n",
      "| Nama|Usia|\n",
      "+-----+----+\n",
      "|  Ali|  34|\n",
      "| Budi|  23|\n",
      "|Citra|  29|\n",
      "| Dina|  45|\n",
      "+-----+----+\n",
      "\n"
     ]
    },
    {
     "data": {
      "text/plain": [
       "(    Nama  Usia\n",
       " 0    Ali    34\n",
       " 1   Budi    23\n",
       " 2  Citra    29\n",
       " 3   Dina    45,\n",
       " None)"
      ]
     },
     "execution_count": 5,
     "metadata": {},
     "output_type": "execute_result"
    }
   ],
   "source": [
    "# Mengonversi DataFrame dari PySpark ke Pandas\n",
    "df_pandas_from_spark = df.toPandas()\n",
    "\n",
    "# Mengonversi DataFrame dari Pandas ke PySpark\n",
    "df_spark_from_pandas = spark.createDataFrame(df_pandas)\n",
    "\n",
    "# Menampilkan DataFrame hasil konversi\n",
    "df_pandas_from_spark, df_spark_from_pandas.show()"
   ]
  },
  {
   "cell_type": "markdown",
   "id": "2cba4e5c",
   "metadata": {
    "id": "2cba4e5c"
   },
   "source": [
    "- **Tugas 5**: Gunakan metode ini untuk menggabungkan data yang Anda buat di PySpark dengan data dari Pandas, kemudian lakukan analisis sederhana seperti menghitung rata-rata usia."
   ]
  },
  {
   "cell_type": "code",
   "execution_count": 6,
   "id": "93e8f58e-2711-42b1-8b07-40cdc62c43de",
   "metadata": {},
   "outputs": [
    {
     "name": "stdout",
     "output_type": "stream",
     "text": [
      "+-----+----+\n",
      "| Nama|Usia|\n",
      "+-----+----+\n",
      "|  Ali|  34|\n",
      "| Budi|  23|\n",
      "|Citra|  29|\n",
      "| Dina|  45|\n",
      "+-----+----+\n",
      "\n",
      "    Nama  Usia\n",
      "0    Ali    34\n",
      "1   Budi    23\n",
      "2  Citra    29\n",
      "3   Dina    45\n",
      "\n",
      "Penggabungan data Pyspark dan Pandas:\n",
      "+-----+------+------+\n",
      "| Nama|Usia_x|Usia_y|\n",
      "+-----+------+------+\n",
      "|  Ali|    34|    34|\n",
      "| Budi|    23|    23|\n",
      "|Citra|    29|    29|\n",
      "| Dina|    45|    45|\n",
      "+-----+------+------+\n",
      "\n",
      "Rata-rata usia: 32.75\n"
     ]
    }
   ],
   "source": [
    "# Mengonversi DataFrame dari PySpark ke Pandas\n",
    "df_pandas_from_spark = df.toPandas()\n",
    "\n",
    "# Mengonversi DataFrame dari Pandas ke PySpark\n",
    "df_spark_from_pandas = spark.createDataFrame(df_pandas)\n",
    "\n",
    "# Menampilkan DataFrame hasil konversi\n",
    "df_spark_from_pandas.show()\n",
    "print(df_pandas_from_spark)\n",
    "\n",
    "#Menggagubangkan DataFrame\n",
    "df_combined_pandas = pd.merge(df_pandas_from_spark, df_pandas, on=\"Nama\", how=\"left\")\n",
    "\n",
    "df_combined_spark = spark.createDataFrame(df_combined_pandas)\n",
    "\n",
    "#Menampilkan data gabungan\n",
    "print()\n",
    "print(\"Penggabungan data Pyspark dan Pandas:\")\n",
    "df_combined_spark.show()\n",
    "\n",
    "#Menghitung rata-rata usia\n",
    "avg_usia = df_pandas_from_spark['Usia'].mean()\n",
    "print(f\"Rata-rata usia: {avg_usia}\")"
   ]
  },
  {
   "cell_type": "markdown",
   "id": "afdba6be",
   "metadata": {
    "id": "afdba6be"
   },
   "source": [
    "### 6. Konversi Data antara PySpark dan Pandas"
   ]
  },
  {
   "cell_type": "code",
   "execution_count": 7,
   "id": "f863defc",
   "metadata": {
    "id": "f863defc"
   },
   "outputs": [
    {
     "name": "stdout",
     "output_type": "stream",
     "text": [
      "+-----+----+\n",
      "| Nama|Usia|\n",
      "+-----+----+\n",
      "|  Ali|  34|\n",
      "| Budi|  23|\n",
      "|Citra|  29|\n",
      "| Dina|  45|\n",
      "+-----+----+\n",
      "\n"
     ]
    },
    {
     "data": {
      "text/plain": [
       "(    Nama  Usia\n",
       " 0    Ali    34\n",
       " 1   Budi    23\n",
       " 2  Citra    29\n",
       " 3   Dina    45,\n",
       " None)"
      ]
     },
     "execution_count": 7,
     "metadata": {},
     "output_type": "execute_result"
    }
   ],
   "source": [
    "# Mengonversi DataFrame dari PySpark ke Pandas\n",
    "df_pandas_from_spark = df.toPandas()\n",
    "\n",
    "# Mengonversi DataFrame dari Pandas ke PySpark\n",
    "df_spark_from_pandas = spark.createDataFrame(df_pandas)\n",
    "\n",
    "# Menampilkan DataFrame hasil konversi\n",
    "df_pandas_from_spark, df_spark_from_pandas.show()\n"
   ]
  },
  {
   "cell_type": "markdown",
   "id": "65adbe71",
   "metadata": {
    "id": "65adbe71"
   },
   "source": [
    "- **Tugas 6**: Gabungkan data dari PySpark dan Pandas, lalu lakukan operasi statistik seperti menghitung nilai maksimum usia."
   ]
  },
  {
   "cell_type": "code",
   "execution_count": 9,
   "id": "750545c1-6969-435f-939a-5aea5cfaed13",
   "metadata": {},
   "outputs": [
    {
     "name": "stdout",
     "output_type": "stream",
     "text": [
      "+-----+----+\n",
      "| Nama|Usia|\n",
      "+-----+----+\n",
      "|  Ali|  34|\n",
      "| Budi|  23|\n",
      "|Citra|  29|\n",
      "| Dina|  45|\n",
      "+-----+----+\n",
      "\n",
      "    Nama  Usia\n",
      "0    Ali    34\n",
      "1   Budi    23\n",
      "2  Citra    29\n",
      "3   Dina    45\n",
      "\n",
      "Gabungan data dari pandas dan spark:\n",
      "+-----+------+------+\n",
      "| Nama|Usia_x|Usia_y|\n",
      "+-----+------+------+\n",
      "|  Ali|    34|    34|\n",
      "| Budi|    23|    23|\n",
      "|Citra|    29|    29|\n",
      "| Dina|    45|    45|\n",
      "+-----+------+------+\n",
      "\n",
      "Nilai maksimum usia: 45\n"
     ]
    }
   ],
   "source": [
    "# Mengonversi DataFrame dari PySpark ke Pandas\n",
    "df_pandas_from_spark = df.toPandas()\n",
    "\n",
    "# Mengonversi DataFrame dari Pandas ke PySpark\n",
    "df_spark_from_pandas = spark.createDataFrame(df_pandas)\n",
    "\n",
    "# Menampilkan DataFrame hasil konversi\n",
    "df_spark_from_pandas.show()\n",
    "print(df_pandas_from_spark)\n",
    "\n",
    "#Menggagubangkan DataFrame\n",
    "df_combined_pandas = pd.merge(df_pandas_from_spark, df_pandas, on=\"Nama\", how=\"left\")\n",
    "\n",
    "df_combined_spark = spark.createDataFrame(df_combined_pandas)\n",
    "\n",
    "#Menampilkan data gabungan\n",
    "print()\n",
    "print(\"Gabungan data dari pandas dan spark:\")\n",
    "df_combined_spark.show()\n",
    "\n",
    "# Menghitung nilai maksimum dari kolom \"Usia\"\n",
    "max_usia = df_pandas_from_spark[\"Usia\"].max()\n",
    "print(f\"Nilai maksimum usia: {max_usia}\")"
   ]
  },
  {
   "cell_type": "code",
   "execution_count": null,
   "id": "8c24f60e-5baa-463b-a895-bb350876944e",
   "metadata": {},
   "outputs": [],
   "source": []
  }
 ],
 "metadata": {
  "colab": {
   "provenance": []
  },
  "kernelspec": {
   "display_name": "Python 3 (ipykernel)",
   "language": "python",
   "name": "python3"
  },
  "language_info": {
   "codemirror_mode": {
    "name": "ipython",
    "version": 3
   },
   "file_extension": ".py",
   "mimetype": "text/x-python",
   "name": "python",
   "nbconvert_exporter": "python",
   "pygments_lexer": "ipython3",
   "version": "3.11.9"
  }
 },
 "nbformat": 4,
 "nbformat_minor": 5
}
