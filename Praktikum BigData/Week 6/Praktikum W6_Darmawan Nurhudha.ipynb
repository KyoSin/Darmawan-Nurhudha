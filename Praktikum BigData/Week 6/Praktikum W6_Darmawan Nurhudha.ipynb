{
 "cells": [
  {
   "cell_type": "markdown",
   "id": "f89f7684",
   "metadata": {},
   "source": [
    "# Hands-On Pertemuan 6: Data Processing dengan Apache Spark"
   ]
  },
  {
   "cell_type": "markdown",
   "id": "e30ce9d1",
   "metadata": {},
   "source": [
    "## Tujuan:\n",
    "- Memahami dan mempraktikkan data processing menggunakan Apache Spark.\n",
    "- Menggunakan Spark untuk operasi data yang efisien pada dataset besar.\n",
    "- Menerapkan teknik canggih dalam Spark untuk mengatasi kasus penggunaan nyata."
   ]
  },
  {
   "cell_type": "markdown",
   "id": "cd5c2f90",
   "metadata": {},
   "source": [
    "### 1. Pengenalan Spark DataFrames\n",
    "Spark DataFrame menyediakan struktur data yang optimal dengan operasi yang dioptimalkan untuk pemrosesan data besar, yang sangat mirip dengan DataFrame di Pandas atau di RDBMS.\n",
    "\n",
    "- **Tugas 1**: Buat DataFrame sederhana di Spark dan eksplorasi beberapa fungsi dasar yang tersedia."
   ]
  },
  {
   "cell_type": "code",
   "execution_count": 7,
   "id": "986d01c7",
   "metadata": {},
   "outputs": [
    {
     "name": "stdout",
     "output_type": "stream",
     "text": [
      "+------------+----------+------+\n",
      "|EmployeeName|Department|Salary|\n",
      "+------------+----------+------+\n",
      "|    Darmawan|       CTO| 10000|\n",
      "|    DavidCPU|       HRD|  5100|\n",
      "| MusaSpeaker| Enggineer|  2000|\n",
      "|WahyuChipset| Marketing|  3900|\n",
      "|      AjiGPU| Marketing|  4200|\n",
      "+------------+----------+------+\n",
      "\n"
     ]
    }
   ],
   "source": [
    "# Contoh membuat DataFrame sederhana dan operasi dasar\n",
    "import findspark\n",
    "findspark.init()\n",
    "\n",
    "from pyspark.sql import SparkSession\n",
    "spark = SparkSession.builder.appName('HandsOnPertemuan6').getOrCreate()\n",
    "\n",
    "data = [('Darmawan', 'CTO', 10000),\n",
    "        ('DavidCPU', 'HRD', 5100),\n",
    "        ('MusaSpeaker', 'Enggineer', 2000),\n",
    "        ('WahyuChipset', 'Marketing', 3900),\n",
    "        ('AjiGPU', 'Marketing', 4200)]\n",
    "columns = ['EmployeeName', 'Department', 'Salary']\n",
    "\n",
    "df = spark.createDataFrame(data, schema=columns)\n",
    "df.show()"
   ]
  },
  {
   "cell_type": "markdown",
   "id": "fca66b73",
   "metadata": {},
   "source": [
    "### 2. Transformasi Dasar dengan DataFrames\n",
    "Pemrosesan data meliputi transformasi seperti filtering, selections, dan aggregations. Spark menyediakan cara efisien untuk melaksanakan operasi ini.\n",
    "\n",
    "- **Tugas 2**: Gunakan operasi filter, select, groupBy untuk mengekstrak informasi dari data, serta lakukan agregasi data untuk mendapatkan insight tentang dataset menggunakan perintah seperti mean, max, sum."
   ]
  },
  {
   "cell_type": "code",
   "execution_count": 13,
   "id": "58232678",
   "metadata": {},
   "outputs": [
    {
     "name": "stdout",
     "output_type": "stream",
     "text": [
      "+------------+------+\n",
      "|EmployeeName|Salary|\n",
      "+------------+------+\n",
      "|    Darmawan| 10000|\n",
      "|    DavidCPU|  5100|\n",
      "| MusaSpeaker|  2000|\n",
      "|WahyuChipset|  3900|\n",
      "|      AjiGPU|  4200|\n",
      "+------------+------+\n",
      "\n",
      "+------------+----------+------+\n",
      "|EmployeeName|Department|Salary|\n",
      "+------------+----------+------+\n",
      "|    Darmawan|       CTO| 10000|\n",
      "|    DavidCPU|       HRD|  5100|\n",
      "|      AjiGPU| Marketing|  4200|\n",
      "+------------+----------+------+\n",
      "\n",
      "+----------+-----------+\n",
      "|Department|avg(Salary)|\n",
      "+----------+-----------+\n",
      "|       CTO|    10000.0|\n",
      "|       HRD|     5100.0|\n",
      "| Enggineer|     2000.0|\n",
      "| Marketing|     4050.0|\n",
      "+----------+-----------+\n",
      "\n",
      "+----------+-------------+---------+-----------+\n",
      "|Department|AverageSalary|MaxSalary|TotalSalary|\n",
      "+----------+-------------+---------+-----------+\n",
      "|       CTO|      10000.0|    10000|      10000|\n",
      "|       HRD|       5100.0|     5100|       5100|\n",
      "| Enggineer|       2000.0|     2000|       2000|\n",
      "| Marketing|       4050.0|     4200|       8100|\n",
      "+----------+-------------+---------+-----------+\n",
      "\n"
     ]
    }
   ],
   "source": [
    "# Contoh operasi transformasi DataFrame\n",
    "df.select('EmployeeName', 'Salary').show()\n",
    "df.filter(df['Salary'] > 4000).show()\n",
    "df.groupBy('Department').avg('Salary').show()\n",
    "\n",
    "from pyspark.sql import functions as F\n",
    "\n",
    "df.groupBy('Department').agg(\n",
    "    F.mean('Salary').alias('AverageSalary'),\n",
    "    F.max('Salary').alias('MaxSalary'),\n",
    "    F.sum('Salary').alias('TotalSalary')\n",
    ").show()\n",
    "\n"
   ]
  },
  {
   "cell_type": "markdown",
   "id": "89763d36",
   "metadata": {},
   "source": [
    "### 3. Bekerja dengan Tipe Data Kompleks\n",
    "Spark mendukung tipe data yang kompleks seperti maps, arrays, dan structs yang memungkinkan operasi yang lebih kompleks pada dataset yang kompleks.\n",
    "\n",
    "- **Tugas 3**: Eksplorasi bagaimana mengolah tipe data kompleks dalam Spark DataFrames."
   ]
  },
  {
   "cell_type": "code",
   "execution_count": 17,
   "id": "14701d79",
   "metadata": {},
   "outputs": [
    {
     "name": "stdout",
     "output_type": "stream",
     "text": [
      "+------------+----------+------+-----------+-----------------+\n",
      "|EmployeeName|Department|Salary|SalaryBonus|TotalCompensation|\n",
      "+------------+----------+------+-----------+-----------------+\n",
      "|    Darmawan|       CTO| 10000|     5000.0|          15000.0|\n",
      "|    DavidCPU|       HRD|  5100|     2550.0|           7650.0|\n",
      "| MusaSpeaker| Enggineer|  2000|     1000.0|           3000.0|\n",
      "|WahyuChipset| Marketing|  3900|     1950.0|           5850.0|\n",
      "|      AjiGPU| Marketing|  4200|     2100.0|           6300.0|\n",
      "+------------+----------+------+-----------+-----------------+\n",
      "\n"
     ]
    }
   ],
   "source": [
    "# Contoh manipulasi tipe data kompleks\n",
    "df = df.withColumn('SalaryBonus', df['Salary'] * 0.5)\n",
    "df = df.withColumn('TotalCompensation', df['Salary'] + df['SalaryBonus'])\n",
    "\n",
    "df.show()"
   ]
  },
  {
   "cell_type": "markdown",
   "id": "5b3b58dd",
   "metadata": {},
   "source": [
    "### 4. Operasi Data Lanjutan\n",
    "Menggunakan Spark untuk operasi lanjutan seperti window functions, user-defined functions (UDFs), dan mengoptimalkan query.\n",
    "\n",
    "- **Tugas 4**: Implementasikan window function untuk menghitung running totals atau rangkings."
   ]
  },
  {
   "cell_type": "code",
   "execution_count": 20,
   "id": "035312eb",
   "metadata": {},
   "outputs": [
    {
     "name": "stdout",
     "output_type": "stream",
     "text": [
      "+------------+----------+------+-----------+-----------------+----+\n",
      "|EmployeeName|Department|Salary|SalaryBonus|TotalCompensation|Rank|\n",
      "+------------+----------+------+-----------+-----------------+----+\n",
      "|    Darmawan|       CTO| 10000|     5000.0|          15000.0|   1|\n",
      "| MusaSpeaker| Enggineer|  2000|     1000.0|           3000.0|   1|\n",
      "|    DavidCPU|       HRD|  5100|     2550.0|           7650.0|   1|\n",
      "|WahyuChipset| Marketing|  3900|     1950.0|           5850.0|   1|\n",
      "|      AjiGPU| Marketing|  4200|     2100.0|           6300.0|   2|\n",
      "+------------+----------+------+-----------+-----------------+----+\n",
      "\n",
      "+------------+----------+------+-----------+-----------------+---------+\n",
      "|EmployeeName|Department|Salary|SalaryBonus|TotalCompensation|DenseRank|\n",
      "+------------+----------+------+-----------+-----------------+---------+\n",
      "|    Darmawan|       CTO| 10000|     5000.0|          15000.0|        1|\n",
      "| MusaSpeaker| Enggineer|  2000|     1000.0|           3000.0|        1|\n",
      "|    DavidCPU|       HRD|  5100|     2550.0|           7650.0|        1|\n",
      "|      AjiGPU| Marketing|  4200|     2100.0|           6300.0|        1|\n",
      "|WahyuChipset| Marketing|  3900|     1950.0|           5850.0|        2|\n",
      "+------------+----------+------+-----------+-----------------+---------+\n",
      "\n",
      "+------------+----------+------+-----------+-----------------+------------+----+\n",
      "|EmployeeName|Department|Salary|SalaryBonus|TotalCompensation|RunningTotal|Rank|\n",
      "+------------+----------+------+-----------+-----------------+------------+----+\n",
      "|    Darmawan|       CTO| 10000|     5000.0|          15000.0|       10000|   1|\n",
      "| MusaSpeaker| Enggineer|  2000|     1000.0|           3000.0|        2000|   1|\n",
      "|    DavidCPU|       HRD|  5100|     2550.0|           7650.0|        5100|   1|\n",
      "|      AjiGPU| Marketing|  4200|     2100.0|           6300.0|        8100|   1|\n",
      "|WahyuChipset| Marketing|  3900|     1950.0|           5850.0|        3900|   2|\n",
      "+------------+----------+------+-----------+-----------------+------------+----+\n",
      "\n"
     ]
    }
   ],
   "source": [
    "# Contoh menggunakan window functions\n",
    "from pyspark.sql.window import Window\n",
    "from pyspark.sql import functions as F\n",
    "\n",
    "windowSpec = Window.partitionBy('Department').orderBy('Salary')\n",
    "windowSpecRank = Window.partitionBy('Department').orderBy(F.desc('Salary'))\n",
    "\n",
    "df.withColumn('Rank', F.rank().over(windowSpec)).show()\n",
    "\n",
    "df.withColumn('DenseRank', F.dense_rank().over(windowSpecRank)).show()\n",
    "\n",
    "df.withColumn('RunningTotal', F.sum('Salary').over(windowSpec)) \\\n",
    "  .withColumn('Rank', F.rank().over(windowSpecRank)) \\\n",
    "  .show()\n"
   ]
  },
  {
   "cell_type": "markdown",
   "id": "f8a097ec",
   "metadata": {},
   "source": [
    "### 5. Kesimpulan dan Eksplorasi Lebih Lanjut\n",
    "Review apa yang telah dipelajari tentang pemrosesan data menggunakan Spark dan eksplorasi teknik lebih lanjut untuk mengoptimalkan pemrosesan data Anda.\n",
    "- **Tugas 5**: Buat ringkasan dari semua operasi yang telah dilakukan dan bagaimana teknik ini dapat diterapkan pada proyek data Anda."
   ]
  }
 ],
 "metadata": {
  "kernelspec": {
   "display_name": "Python 3 (ipykernel)",
   "language": "python",
   "name": "python3"
  },
  "language_info": {
   "codemirror_mode": {
    "name": "ipython",
    "version": 3
   },
   "file_extension": ".py",
   "mimetype": "text/x-python",
   "name": "python",
   "nbconvert_exporter": "python",
   "pygments_lexer": "ipython3",
   "version": "3.11.9"
  }
 },
 "nbformat": 4,
 "nbformat_minor": 5
}
